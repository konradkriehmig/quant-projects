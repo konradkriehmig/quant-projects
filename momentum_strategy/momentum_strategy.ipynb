{
  "nbformat": 4,
  "nbformat_minor": 0,
  "metadata": {
    "colab": {
      "provenance": []
    },
    "kernelspec": {
      "name": "python3",
      "display_name": "Python 3"
    },
    "language_info": {
      "name": "python"
    }
  },
  "cells": [
    {
      "cell_type": "code",
      "execution_count": null,
      "metadata": {
        "id": "ZfuQmeeKjtM4"
      },
      "outputs": [],
      "source": [
        "# Momentum Strategy (Template)\n",
        "# Author: Konrad Kriehmig\n",
        "\n",
        "import pandas as pd\n",
        "import numpy as np\n",
        "import matplotlib.pyplot as plt\n",
        "\n",
        "# TODO:\n",
        "# - Load historical data\n",
        "# - Calculate 6-month momentum\n",
        "# - Rank stocks\n",
        "# - Backtest performance"
      ]
    }
  ]
}