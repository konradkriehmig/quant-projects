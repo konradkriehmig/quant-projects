{
  "cells": [
    {
      "cell_type": "code",
      "execution_count": null,
      "metadata": {
        "id": "ZfuQmeeKjtM4"
      },
      "outputs": [],
      "source": [
        "# Momentum Strategy (Template)\n",
        "# Author: Konrad Kriehmig\n",
        "\n",
        "import pandas as pd\n",
        "import numpy as np\n",
        "import matplotlib.pyplot as plt\n",
        "\n",
        "# QuantBook Analysis Tool\n",
        "# For more information see [https://www.quantconnect.com/docs/v2/our-platform/research/getting-started]\n",
        "qb = QuantBook()\n",
        "spy = qb.add_equity(\"SPY\")\n",
        "history = qb.history(qb.securities.keys(), 360, Resolution.DAILY)\n",
        "\n",
        "# Indicator Analysis\n",
        "bbdf = qb.indicator(BollingerBands(30, 2), spy.symbol, 360, Resolution.DAILY)\n",
        "bbdf.drop('standarddeviation', axis=1).plot()\n",
        "\n",
        "# TO DO:\n",
        "# - Load historical data\n",
        "# - Calculate 6-month momentum\n",
        "# - Rank stocks\n",
        "# - Backtest performance"
      ]
    }
  ],
  "metadata": {
    "colab": {
      "provenance": []
    },
    "kernelspec": {
      "display_name": "Python 3",
      "name": "python3"
    },
    "language_info": {
      "name": "python"
    }
  },
  "nbformat": 4,
  "nbformat_minor": 0
}
